{
 "cells": [
  {
   "cell_type": "code",
   "execution_count": 4,
   "id": "58819268",
   "metadata": {},
   "outputs": [],
   "source": [
    "import pandas as pd\n",
    "from matplotlib import pyplot as plt"
   ]
  },
  {
   "cell_type": "code",
   "execution_count": 32,
   "id": "8911fdd7",
   "metadata": {},
   "outputs": [],
   "source": [
    "data = pd.read_csv('test_feb15_1.csv')"
   ]
  },
  {
   "cell_type": "code",
   "execution_count": 6,
   "id": "fd919a79",
   "metadata": {},
   "outputs": [
    {
     "data": {
      "image/png": "[encoded data removed]",
      "text/plain": [
       "<Figure size 432x288 with 1 Axes>"
      ]
     },
     "metadata": {
      "needs_background": "light"
     },
     "output_type": "display_data"
    },
    {
     "name": "stdout",
     "output_type": "stream",
     "text": [
      "Average rent for subset <2k$: 1604.8\n",
      "\n",
      "Number of rentals found <=2k$: 160 out of a total 396\n",
      "40%\n",
      "Amount in Vancouver: 66\n",
      "Amount in downtown: 3\n",
      "Amount in North Van: 7\n",
      "Amount in Burnaby: 19\n",
      "Amount in Richmond: 18\n"
     ]
    }
   ],
   "source": [
    "# start filtering by rent\n",
    "data_u2k = data[data.price <= 2000]\n",
    "plt.plot(data_u2k.price,'.')\n",
    "\n",
    "plt.title(\"Plot of apartments under 2k rent\")\n",
    "plt.xlabel(\"Apartment ID\")\n",
    "plt.ylabel(\"Rent ($/month)\")\n",
    "plt.show()\n",
    "\n",
    "mean_u2k = data_u2k.price.mean()\n",
    "print(\"Average rent for subset <2k$: \"+ str(mean_u2k) + \"\\n\")\n",
    "\n",
    "print(\"Number of rentals found <=2k$: \" + str(len(data_u2k.price)) + \" out of a total \" + str(len(data.price)))\n",
    "print(str(int(100*len(data_u2k.price)/len(data.price)))+\"%\")\n",
    "\n",
    "van = data_u2k[data_u2k.hood == \"vancouver\"]\n",
    "down = data_u2k[data_u2k.hood == \"downtown\"]\n",
    "nvan = data_u2k[data_u2k.hood == \"north van\"]\n",
    "burn = data_u2k[data_u2k.hood == \"burnaby\"]\n",
    "rich = data_u2k[data_u2k.hood == \"richmond\"]\n",
    "\n",
    "print(\"Amount in Vancouver: \"+ str(len(van.price)))\n",
    "print(\"Amount in downtown: \"+ str(len(down.price)))\n",
    "print(\"Amount in North Van: \"+ str(len(nvan.price)))\n",
    "print(\"Amount in Burnaby: \"+ str(len(burn.price)))\n",
    "print(\"Amount in Richmond: \"+ str(len(rich.price)))"
   ]
  },
  {
   "cell_type": "code",
   "execution_count": 7,
   "id": "6bd5c59d",
   "metadata": {},
   "outputs": [],
   "source": [
    "# print(\"links of u2k rentals in vancouver: \")\n",
    "# for elem in van.link:\n",
    "#     print(elem)"
   ]
  },
  {
   "cell_type": "code",
   "execution_count": 56,
   "id": "9e9232b3",
   "metadata": {},
   "outputs": [
    {
     "name": "stdout",
     "output_type": "stream",
     "text": [
      "links for under 2k rentals downtown: \n",
      "rent: 1980$,   bedrooms: 2,   date posted: Feb 15\n",
      "\"https://vancouver.craigslist.org/van/apa/d/vancouver-bedroom-in-quiet-westend/7439308470.html\"\n",
      "\n",
      "rent: 1038$,   bedrooms: 1,   date posted: Feb 15\n",
      "\"https://vancouver.craigslist.org/van/apa/d/esquimalt-pet-friendly-micro-suite/7435814114.html\"\n",
      "\n",
      "rent: 1900$,   bedrooms: 1,   date posted: Feb 15\n",
      "\"https://vancouver.craigslist.org/van/apa/d/vancouver-march-clean-furnished/7445223235.html\"\n",
      "\n"
     ]
    }
   ],
   "source": [
    "print(\"links for under 2k rentals downtown: \")\n",
    "for i in range(len(down)):\n",
    "    print(\"rent: \" + str(down.price.iloc[i]) + \"$,   bedrooms: \" + str(down.beds.iloc[i]) + \",   date posted: \" + down.date.iloc[i])\n",
    "    print('\"'+down.link.iloc[i]+'\"')\n",
    "    print()"
   ]
  },
  {
   "cell_type": "code",
   "execution_count": 9,
   "id": "e2ef9037",
   "metadata": {},
   "outputs": [],
   "source": [
    "# print(\"links of u2k rentals north van: \")\n",
    "# for elem in nvan.link:\n",
    "#     print(elem)"
   ]
  },
  {
   "cell_type": "code",
   "execution_count": 10,
   "id": "f37c2f45",
   "metadata": {},
   "outputs": [],
   "source": [
    "# print(\"links of u2k rentals burnaby: \")\n",
    "# for elem in burn.link:\n",
    "#     print(elem)"
   ]
  },
  {
   "cell_type": "code",
   "execution_count": 1,
   "id": "76cb2dc4",
   "metadata": {},
   "outputs": [],
   "source": [
    "# print(\"links of u2k rentals richmond: \")\n",
    "# for elem in rich.link:\n",
    "#     print(elem)"
   ]
  },
  {
   "cell_type": "code",
   "execution_count": null,
   "id": "743bcf00",
   "metadata": {},
   "outputs": [],
   "source": []
  }
 ],
 "metadata": {
  "kernelspec": {
   "display_name": "Python 3",
   "language": "python",
   "name": "python3"
  },
  "language_info": {
   "codemirror_mode": {
    "name": "ipython",
    "version": 3
   },
   "file_extension": ".py",
   "mimetype": "text/x-python",
   "name": "python",
   "nbconvert_exporter": "python",
   "pygments_lexer": "ipython3",
   "version": "3.8.8"
  }
 },
 "nbformat": 4,
 "nbformat_minor": 5
}
